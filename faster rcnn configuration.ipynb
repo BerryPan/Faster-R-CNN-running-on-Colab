{
  "nbformat": 4,
  "nbformat_minor": 0,
  "metadata": {
    "colab": {
      "name": "fasterrcnn.ipynb",
      "provenance": []
    },
    "kernelspec": {
      "name": "python3",
      "display_name": "Python 3"
    },
    "accelerator": "GPU"
  },
  "cells": [
    {
      "cell_type": "code",
      "metadata": {
        "id": "43z7X0lH-Z8h",
        "outputId": "a92ce1b7-f9d8-45c8-eaae-aa62bb66eaa0",
        "colab": {
          "base_uri": "https://localhost:8080/",
          "height": 35
        }
      },
      "source": [
        "cd /content/drive/My\\ Drive/test\\ docments/testsource/faster-rcnn.pytorch/"
      ],
      "execution_count": 1,
      "outputs": [
        {
          "output_type": "stream",
          "text": [
            "/content/drive/My Drive/test docments/testsource/faster-rcnn.pytorch\n"
          ],
          "name": "stdout"
        }
      ]
    },
    {
      "cell_type": "code",
      "metadata": {
        "id": "Sq5R3s3HZY5J",
        "outputId": "55923d5e-9af5-4abf-a435-4dceff0e790d",
        "colab": {
          "base_uri": "https://localhost:8080/",
          "height": 143
        }
      },
      "source": [
        "!dir"
      ],
      "execution_count": 2,
      "outputs": [
        {
          "output_type": "stream",
          "text": [
            "cfgs\t\t\t\t\t\t       LICENSE\n",
            "cuda-repo-ubuntu1604-8-0-local-ga2_8.0.61-1_amd64-deb  __pycache__\n",
            "data\t\t\t\t\t\t       README.md\n",
            "demo.py\t\t\t\t\t\t       requirements.txt\n",
            "images\t\t\t\t\t\t       test_net.py\n",
            "_init_paths.py\t\t\t\t\t       trainval_net.py\n",
            "lib\n"
          ],
          "name": "stdout"
        }
      ]
    },
    {
      "cell_type": "code",
      "metadata": {
        "id": "hNnqMhBG-cRS",
        "outputId": "f8ed941b-267d-4401-c4f3-d4a2dcff8741",
        "colab": {
          "base_uri": "https://localhost:8080/",
          "height": 107
        }
      },
      "source": [
        "#!git clone https://github.com/jwyang/faster-rcnn.pytorch.git"
      ],
      "execution_count": 12,
      "outputs": [
        {
          "output_type": "stream",
          "text": [
            "Cloning into 'faster-rcnn.pytorch'...\n",
            "remote: Enumerating objects: 3858, done.\u001b[K\n",
            "remote: Total 3858 (delta 0), reused 0 (delta 0), pack-reused 3858\u001b[K\n",
            "Receiving objects: 100% (3858/3858), 6.22 MiB | 801.00 KiB/s, done.\n",
            "Resolving deltas: 100% (2616/2616), done.\n"
          ],
          "name": "stdout"
        }
      ]
    },
    {
      "cell_type": "code",
      "metadata": {
        "id": "4m1_igN0-qxr",
        "outputId": "7e21f13f-7b23-4108-c931-0e6b599afc58",
        "colab": {
          "base_uri": "https://localhost:8080/",
          "height": 161
        }
      },
      "source": [
        "!pip3 install --upgrade pip"
      ],
      "execution_count": null,
      "outputs": [
        {
          "output_type": "stream",
          "text": [
            "Collecting pip\n",
            "\u001b[?25l  Downloading https://files.pythonhosted.org/packages/4e/5f/528232275f6509b1fff703c9280e58951a81abe24640905de621c9f81839/pip-20.2.3-py2.py3-none-any.whl (1.5MB)\n",
            "\u001b[K     |████████████████████████████████| 1.5MB 4.3MB/s \n",
            "\u001b[?25hInstalling collected packages: pip\n",
            "  Found existing installation: pip 19.3.1\n",
            "    Uninstalling pip-19.3.1:\n",
            "      Successfully uninstalled pip-19.3.1\n",
            "Successfully installed pip-20.2.3\n"
          ],
          "name": "stdout"
        }
      ]
    },
    {
      "cell_type": "code",
      "metadata": {
        "id": "mD3VoUvy_Gaq",
        "outputId": "6fb68f77-b355-4ce3-bfe1-20827749a736",
        "colab": {
          "base_uri": "https://localhost:8080/",
          "height": 433
        }
      },
      "source": [
        "!pip3 install -r requirements.txt"
      ],
      "execution_count": 16,
      "outputs": [
        {
          "output_type": "stream",
          "text": [
            "Requirement already satisfied: cython in /usr/local/lib/python3.6/dist-packages (from -r requirements.txt (line 1)) (0.29.21)\n",
            "Requirement already satisfied: cffi in /usr/local/lib/python3.6/dist-packages (from -r requirements.txt (line 2)) (1.14.3)\n",
            "Requirement already satisfied: opencv-python in /usr/local/lib/python3.6/dist-packages (from -r requirements.txt (line 3)) (4.1.2.30)\n",
            "Requirement already satisfied: scipy in /usr/local/lib/python3.6/dist-packages (from -r requirements.txt (line 4)) (1.4.1)\n",
            "Requirement already satisfied: msgpack in /usr/local/lib/python3.6/dist-packages (from -r requirements.txt (line 5)) (1.0.0)\n",
            "Requirement already satisfied: easydict in /usr/local/lib/python3.6/dist-packages (from -r requirements.txt (line 6)) (1.9)\n",
            "Requirement already satisfied: matplotlib in /usr/local/lib/python3.6/dist-packages (from -r requirements.txt (line 7)) (3.2.2)\n",
            "Requirement already satisfied: pyyaml in /usr/local/lib/python3.6/dist-packages (from -r requirements.txt (line 8)) (3.13)\n",
            "Collecting tensorboardX\n",
            "  Downloading tensorboardX-2.1-py2.py3-none-any.whl (308 kB)\n",
            "\u001b[K     |████████████████████████████████| 308 kB 2.8 MB/s \n",
            "\u001b[?25hRequirement already satisfied: pycparser in /usr/local/lib/python3.6/dist-packages (from cffi->-r requirements.txt (line 2)) (2.20)\n",
            "Requirement already satisfied: numpy>=1.11.3 in /usr/local/lib/python3.6/dist-packages (from opencv-python->-r requirements.txt (line 3)) (1.18.5)\n",
            "Requirement already satisfied: kiwisolver>=1.0.1 in /usr/local/lib/python3.6/dist-packages (from matplotlib->-r requirements.txt (line 7)) (1.2.0)\n",
            "Requirement already satisfied: pyparsing!=2.0.4,!=2.1.2,!=2.1.6,>=2.0.1 in /usr/local/lib/python3.6/dist-packages (from matplotlib->-r requirements.txt (line 7)) (2.4.7)\n",
            "Requirement already satisfied: cycler>=0.10 in /usr/local/lib/python3.6/dist-packages (from matplotlib->-r requirements.txt (line 7)) (0.10.0)\n",
            "Requirement already satisfied: python-dateutil>=2.1 in /usr/local/lib/python3.6/dist-packages (from matplotlib->-r requirements.txt (line 7)) (2.8.1)\n",
            "Requirement already satisfied: protobuf>=3.8.0 in /usr/local/lib/python3.6/dist-packages (from tensorboardX->-r requirements.txt (line 9)) (3.12.4)\n",
            "Requirement already satisfied: six in /usr/local/lib/python3.6/dist-packages (from tensorboardX->-r requirements.txt (line 9)) (1.15.0)\n",
            "Requirement already satisfied: setuptools in /usr/local/lib/python3.6/dist-packages (from protobuf>=3.8.0->tensorboardX->-r requirements.txt (line 9)) (50.3.0)\n",
            "Installing collected packages: tensorboardX\n",
            "Successfully installed tensorboardX-2.1\n"
          ],
          "name": "stdout"
        }
      ]
    },
    {
      "cell_type": "code",
      "metadata": {
        "id": "mEjcvwD8cK0O",
        "outputId": "8eb9c00f-bbc7-4e87-ab7b-095e31b74fdf",
        "colab": {
          "base_uri": "https://localhost:8080/",
          "height": 415
        }
      },
      "source": [
        "!pip3 uninstall scipy\n",
        "!pip3 install scipy==1.2.0"
      ],
      "execution_count": 32,
      "outputs": [
        {
          "output_type": "stream",
          "text": [
            "Found existing installation: scipy 1.4.1\n",
            "Uninstalling scipy-1.4.1:\n",
            "  Would remove:\n",
            "    /usr/local/lib/python3.6/dist-packages/scipy-1.4.1.dist-info/*\n",
            "    /usr/local/lib/python3.6/dist-packages/scipy/*\n",
            "Proceed (y/n)? y\n",
            "  Successfully uninstalled scipy-1.4.1\n",
            "Collecting scipy==1.2.0\n",
            "  Downloading scipy-1.2.0-cp36-cp36m-manylinux1_x86_64.whl (26.6 MB)\n",
            "\u001b[K     |████████████████████████████████| 26.6 MB 112 kB/s \n",
            "\u001b[?25hRequirement already satisfied: numpy>=1.8.2 in /usr/local/lib/python3.6/dist-packages (from scipy==1.2.0) (1.18.5)\n",
            "Installing collected packages: scipy\n",
            "\u001b[31mERROR: After October 2020 you may experience errors when installing or updating packages. This is because pip will change the way that it resolves dependency conflicts.\n",
            "\n",
            "We recommend you use --use-feature=2020-resolver to test your packages with the new resolver before it becomes the default.\n",
            "\n",
            "umap-learn 0.4.6 requires scipy>=1.3.1, but you'll have scipy 1.2.0 which is incompatible.\n",
            "tensorflow 2.3.0 requires scipy==1.4.1, but you'll have scipy 1.2.0 which is incompatible.\n",
            "fastai 1.0.61 requires torch>=1.0.0, but you'll have torch 0.4.0 which is incompatible.\n",
            "albumentations 0.1.12 requires imgaug<0.2.7,>=0.2.5, but you'll have imgaug 0.2.9 which is incompatible.\u001b[0m\n",
            "Successfully installed scipy-1.2.0\n"
          ],
          "name": "stdout"
        }
      ]
    },
    {
      "cell_type": "code",
      "metadata": {
        "id": "UXZJce3I_yJH",
        "outputId": "4dab190f-a929-4db3-d6af-2aee2cfb9d79",
        "colab": {
          "base_uri": "https://localhost:8080/",
          "height": 269
        }
      },
      "source": [
        "!pip3 uninstall torch torchvision"
      ],
      "execution_count": 42,
      "outputs": [
        {
          "output_type": "stream",
          "text": [
            "Found existing installation: torch 0.4.0\n",
            "Uninstalling torch-0.4.0:\n",
            "  Would remove:\n",
            "    /usr/local/lib/python3.6/dist-packages/torch-0.4.0.dist-info/*\n",
            "    /usr/local/lib/python3.6/dist-packages/torch/*\n",
            "Proceed (y/n)? y\n",
            "  Successfully uninstalled torch-0.4.0\n",
            "Found existing installation: torchvision 0.2.0\n",
            "Uninstalling torchvision-0.2.0:\n",
            "  Would remove:\n",
            "    /usr/local/lib/python3.6/dist-packages/torchvision-0.2.0.dist-info/*\n",
            "    /usr/local/lib/python3.6/dist-packages/torchvision/*\n",
            "Proceed (y/n)? y\n",
            "  Successfully uninstalled torchvision-0.2.0\n"
          ],
          "name": "stdout"
        }
      ]
    },
    {
      "cell_type": "code",
      "metadata": {
        "id": "CZ2W27HVAA0w",
        "outputId": "947d5873-8aaf-4d64-fec7-68aae61d2a6b",
        "colab": {
          "base_uri": "https://localhost:8080/",
          "height": 325
        }
      },
      "source": [
        "!pip3 install torch==0.4.0 torchvision==0.2.2post3 -f https://download.pytorch.org/whl/torch_stable.html"
      ],
      "execution_count": 43,
      "outputs": [
        {
          "output_type": "stream",
          "text": [
            "Looking in links: https://download.pytorch.org/whl/torch_stable.html\n",
            "Collecting torch==0.4.0\n",
            "  Using cached torch-0.4.0-cp36-cp36m-manylinux1_x86_64.whl (484.0 MB)\n",
            "Collecting torchvision==0.2.2post3\n",
            "  Downloading torchvision-0.2.2.post3-py2.py3-none-any.whl (64 kB)\n",
            "\u001b[K     |████████████████████████████████| 64 kB 974 kB/s \n",
            "\u001b[?25hRequirement already satisfied: six in /usr/local/lib/python3.6/dist-packages (from torchvision==0.2.2post3) (1.15.0)\n",
            "Requirement already satisfied: pillow>=4.1.1 in /usr/local/lib/python3.6/dist-packages (from torchvision==0.2.2post3) (7.0.0)\n",
            "Requirement already satisfied: numpy in /usr/local/lib/python3.6/dist-packages (from torchvision==0.2.2post3) (1.18.5)\n",
            "Installing collected packages: torch, torchvision\n",
            "\u001b[31mERROR: After October 2020 you may experience errors when installing or updating packages. This is because pip will change the way that it resolves dependency conflicts.\n",
            "\n",
            "We recommend you use --use-feature=2020-resolver to test your packages with the new resolver before it becomes the default.\n",
            "\n",
            "fastai 1.0.61 requires torch>=1.0.0, but you'll have torch 0.4.0 which is incompatible.\u001b[0m\n",
            "Successfully installed torch-0.4.0 torchvision-0.2.2.post3\n"
          ],
          "name": "stdout"
        }
      ]
    },
    {
      "cell_type": "code",
      "metadata": {
        "id": "8VrxxPbP_7b6",
        "outputId": "5dda14f1-fdbe-4a93-e518-776502f283b3",
        "colab": {
          "base_uri": "https://localhost:8080/",
          "height": 35
        }
      },
      "source": [
        "cd lib/"
      ],
      "execution_count": 47,
      "outputs": [
        {
          "output_type": "stream",
          "text": [
            "/content/drive/My Drive/test docments/testsource/faster-rcnn.pytorch/lib\n"
          ],
          "name": "stdout"
        }
      ]
    },
    {
      "cell_type": "code",
      "metadata": {
        "id": "qjK6Gd9bJCFF",
        "outputId": "375852a8-5579-43ea-f378-c72c8ed01a17",
        "colab": {
          "base_uri": "https://localhost:8080/",
          "height": 233
        }
      },
      "source": [
        "!sudo apt-get update"
      ],
      "execution_count": 21,
      "outputs": [
        {
          "output_type": "stream",
          "text": [
            "Hit:1 https://cloud.r-project.org/bin/linux/ubuntu bionic-cran40/ InRelease\n",
            "Ign:2 https://developer.download.nvidia.com/compute/cuda/repos/ubuntu1804/x86_64  InRelease\n",
            "Ign:3 https://developer.download.nvidia.com/compute/machine-learning/repos/ubuntu1804/x86_64  InRelease\n",
            "Hit:4 https://developer.download.nvidia.com/compute/cuda/repos/ubuntu1804/x86_64  Release\n",
            "Hit:5 https://developer.download.nvidia.com/compute/machine-learning/repos/ubuntu1804/x86_64  Release\n",
            "Hit:6 http://archive.ubuntu.com/ubuntu bionic InRelease\n",
            "Hit:7 http://ppa.launchpad.net/c2d4u.team/c2d4u4.0+/ubuntu bionic InRelease\n",
            "Hit:10 http://archive.ubuntu.com/ubuntu bionic-updates InRelease\n",
            "Hit:11 http://security.ubuntu.com/ubuntu bionic-security InRelease\n",
            "Hit:12 http://ppa.launchpad.net/graphics-drivers/ppa/ubuntu bionic InRelease\n",
            "Hit:13 http://archive.ubuntu.com/ubuntu bionic-backports InRelease\n",
            "Reading package lists... Done\n"
          ],
          "name": "stdout"
        }
      ]
    },
    {
      "cell_type": "code",
      "metadata": {
        "id": "z50ICWmYJKeE",
        "outputId": "1257a6d9-4486-4b97-bd01-765d95705a5c",
        "colab": {
          "base_uri": "https://localhost:8080/",
          "height": 1000
        }
      },
      "source": [
        "!sudo apt install gcc-5 g++-5"
      ],
      "execution_count": 22,
      "outputs": [
        {
          "output_type": "stream",
          "text": [
            "Reading package lists... Done\n",
            "Building dependency tree       \n",
            "Reading state information... Done\n",
            "The following additional packages will be installed:\n",
            "  cpp-5 gcc-5-base libasan2 libgcc-5-dev libisl15 libmpx0 libstdc++-5-dev\n",
            "Suggested packages:\n",
            "  gcc-5-locales g++-5-multilib gcc-5-doc libstdc++6-5-dbg gcc-5-multilib\n",
            "  libgcc1-dbg libgomp1-dbg libitm1-dbg libatomic1-dbg libasan2-dbg\n",
            "  liblsan0-dbg libtsan0-dbg libubsan0-dbg libcilkrts5-dbg libmpx0-dbg\n",
            "  libquadmath0-dbg libstdc++-5-doc\n",
            "The following NEW packages will be installed:\n",
            "  cpp-5 g++-5 gcc-5 gcc-5-base libasan2 libgcc-5-dev libisl15 libmpx0\n",
            "  libstdc++-5-dev\n",
            "0 upgraded, 9 newly installed, 0 to remove and 8 not upgraded.\n",
            "Need to get 29.1 MB of archives.\n",
            "After this operation, 100 MB of additional disk space will be used.\n",
            "Get:1 http://archive.ubuntu.com/ubuntu bionic/universe amd64 gcc-5-base amd64 5.5.0-12ubuntu1 [17.1 kB]\n",
            "Get:2 http://archive.ubuntu.com/ubuntu bionic/universe amd64 libisl15 amd64 0.18-4 [548 kB]\n",
            "Get:3 http://archive.ubuntu.com/ubuntu bionic/universe amd64 cpp-5 amd64 5.5.0-12ubuntu1 [7,785 kB]\n",
            "Get:4 http://archive.ubuntu.com/ubuntu bionic/universe amd64 libasan2 amd64 5.5.0-12ubuntu1 [264 kB]\n",
            "Get:5 http://archive.ubuntu.com/ubuntu bionic/universe amd64 libmpx0 amd64 5.5.0-12ubuntu1 [9,888 B]\n",
            "Get:6 http://archive.ubuntu.com/ubuntu bionic/universe amd64 libgcc-5-dev amd64 5.5.0-12ubuntu1 [2,224 kB]\n",
            "Get:7 http://archive.ubuntu.com/ubuntu bionic/universe amd64 gcc-5 amd64 5.5.0-12ubuntu1 [8,357 kB]\n",
            "Get:8 http://archive.ubuntu.com/ubuntu bionic/universe amd64 libstdc++-5-dev amd64 5.5.0-12ubuntu1 [1,415 kB]\n",
            "Get:9 http://archive.ubuntu.com/ubuntu bionic/universe amd64 g++-5 amd64 5.5.0-12ubuntu1 [8,450 kB]\n",
            "Fetched 29.1 MB in 5s (6,024 kB/s)\n",
            "debconf: unable to initialize frontend: Dialog\n",
            "debconf: (No usable dialog-like program is installed, so the dialog based frontend cannot be used. at /usr/share/perl5/Debconf/FrontEnd/Dialog.pm line 76, <> line 9.)\n",
            "debconf: falling back to frontend: Readline\n",
            "debconf: unable to initialize frontend: Readline\n",
            "debconf: (This frontend requires a controlling tty.)\n",
            "debconf: falling back to frontend: Teletype\n",
            "dpkg-preconfigure: unable to re-open stdin: \n",
            "Selecting previously unselected package gcc-5-base:amd64.\n",
            "(Reading database ... 144617 files and directories currently installed.)\n",
            "Preparing to unpack .../0-gcc-5-base_5.5.0-12ubuntu1_amd64.deb ...\n",
            "Unpacking gcc-5-base:amd64 (5.5.0-12ubuntu1) ...\n",
            "Selecting previously unselected package libisl15:amd64.\n",
            "Preparing to unpack .../1-libisl15_0.18-4_amd64.deb ...\n",
            "Unpacking libisl15:amd64 (0.18-4) ...\n",
            "Selecting previously unselected package cpp-5.\n",
            "Preparing to unpack .../2-cpp-5_5.5.0-12ubuntu1_amd64.deb ...\n",
            "Unpacking cpp-5 (5.5.0-12ubuntu1) ...\n",
            "Selecting previously unselected package libasan2:amd64.\n",
            "Preparing to unpack .../3-libasan2_5.5.0-12ubuntu1_amd64.deb ...\n",
            "Unpacking libasan2:amd64 (5.5.0-12ubuntu1) ...\n",
            "Selecting previously unselected package libmpx0:amd64.\n",
            "Preparing to unpack .../4-libmpx0_5.5.0-12ubuntu1_amd64.deb ...\n",
            "Unpacking libmpx0:amd64 (5.5.0-12ubuntu1) ...\n",
            "Selecting previously unselected package libgcc-5-dev:amd64.\n",
            "Preparing to unpack .../5-libgcc-5-dev_5.5.0-12ubuntu1_amd64.deb ...\n",
            "Unpacking libgcc-5-dev:amd64 (5.5.0-12ubuntu1) ...\n",
            "Selecting previously unselected package gcc-5.\n",
            "Preparing to unpack .../6-gcc-5_5.5.0-12ubuntu1_amd64.deb ...\n",
            "Unpacking gcc-5 (5.5.0-12ubuntu1) ...\n",
            "Selecting previously unselected package libstdc++-5-dev:amd64.\n",
            "Preparing to unpack .../7-libstdc++-5-dev_5.5.0-12ubuntu1_amd64.deb ...\n",
            "Unpacking libstdc++-5-dev:amd64 (5.5.0-12ubuntu1) ...\n",
            "Selecting previously unselected package g++-5.\n",
            "Preparing to unpack .../8-g++-5_5.5.0-12ubuntu1_amd64.deb ...\n",
            "Unpacking g++-5 (5.5.0-12ubuntu1) ...\n",
            "Setting up libisl15:amd64 (0.18-4) ...\n",
            "Setting up gcc-5-base:amd64 (5.5.0-12ubuntu1) ...\n",
            "Setting up libmpx0:amd64 (5.5.0-12ubuntu1) ...\n",
            "Setting up libasan2:amd64 (5.5.0-12ubuntu1) ...\n",
            "Setting up libgcc-5-dev:amd64 (5.5.0-12ubuntu1) ...\n",
            "Setting up cpp-5 (5.5.0-12ubuntu1) ...\n",
            "Setting up libstdc++-5-dev:amd64 (5.5.0-12ubuntu1) ...\n",
            "Setting up gcc-5 (5.5.0-12ubuntu1) ...\n",
            "Setting up g++-5 (5.5.0-12ubuntu1) ...\n",
            "Processing triggers for man-db (2.8.3-2ubuntu0.1) ...\n",
            "Processing triggers for libc-bin (2.27-3ubuntu1.2) ...\n",
            "/sbin/ldconfig.real: /usr/local/lib/python3.6/dist-packages/ideep4py/lib/libmkldnn.so.0 is not a symbolic link\n",
            "\n"
          ],
          "name": "stdout"
        }
      ]
    },
    {
      "cell_type": "code",
      "metadata": {
        "id": "iz3EURZ4KrVE",
        "outputId": "e7ba2454-c922-4194-ce99-37a6e5e49cc0",
        "colab": {
          "base_uri": "https://localhost:8080/",
          "height": 35
        }
      },
      "source": [
        "!sudo update-alternatives --install /usr/bin/gcc gcc /usr/bin/gcc-7 70 --slave /usr/bin/g++ g++ /usr/bin/g++-7\n",
        "!sudo update-alternatives --install /usr/bin/gcc gcc /usr/bin/gcc-5 50 --slave /usr/bin/g++ g++ /usr/bin/g++-5\n"
      ],
      "execution_count": 23,
      "outputs": [
        {
          "output_type": "stream",
          "text": [
            "update-alternatives: using /usr/bin/gcc-7 to provide /usr/bin/gcc (gcc) in auto mode\n"
          ],
          "name": "stdout"
        }
      ]
    },
    {
      "cell_type": "code",
      "metadata": {
        "id": "vCoYdLovK2wH",
        "outputId": "efaebab3-e675-45ac-f72c-0e3affafb791",
        "colab": {
          "base_uri": "https://localhost:8080/",
          "height": 53
        }
      },
      "source": [
        "!update-alternatives --list gcc"
      ],
      "execution_count": 24,
      "outputs": [
        {
          "output_type": "stream",
          "text": [
            "/usr/bin/gcc-5\n",
            "/usr/bin/gcc-7\n"
          ],
          "name": "stdout"
        }
      ]
    },
    {
      "cell_type": "code",
      "metadata": {
        "id": "mfUixhw0K7Lh",
        "outputId": "1b3c8fa9-7832-499d-9c11-55b82df3305a",
        "colab": {
          "base_uri": "https://localhost:8080/",
          "height": 35
        }
      },
      "source": [
        "!update-alternatives --set gcc /usr/bin/gcc-5"
      ],
      "execution_count": 25,
      "outputs": [
        {
          "output_type": "stream",
          "text": [
            "update-alternatives: using /usr/bin/gcc-5 to provide /usr/bin/gcc (gcc) in manual mode\n"
          ],
          "name": "stdout"
        }
      ]
    },
    {
      "cell_type": "code",
      "metadata": {
        "id": "DFJpScRSecFf"
      },
      "source": [
        "!wget https://developer.nvidia.com/compute/cuda/8.0/Prod2/local_installers/cuda-repo-ubuntu1604-8-0-local-ga2_8.0.61-1_amd64-deb\n",
        "!dpkg -i cuda-repo-ubuntu1604-8-0-local-ga2_8.0.61-1_amd64-deb\n",
        "!apt-get update\n",
        "!apt-get install cuda=8.0.61-1"
      ],
      "execution_count": null,
      "outputs": []
    },
    {
      "cell_type": "code",
      "metadata": {
        "id": "h2MoXNFUFBqQ",
        "outputId": "b2d6b482-8964-4b60-c739-2d15c5bec793",
        "colab": {
          "base_uri": "https://localhost:8080/",
          "height": 1000
        }
      },
      "source": [
        "!sh make.sh"
      ],
      "execution_count": 48,
      "outputs": [
        {
          "output_type": "stream",
          "text": [
            "running build_ext\n",
            "skipping 'model/utils/bbox.c' Cython extension (up-to-date)\n",
            "skipping 'pycocotools/_mask.c' Cython extension (up-to-date)\n",
            "Compiling nms kernels by nvcc...\n",
            "Including CUDA code.\n",
            "/content/drive/My Drive/test docments/testsource/faster-rcnn.pytorch/lib/model/nms\n",
            "['/content/drive/My Drive/test docments/testsource/faster-rcnn.pytorch/lib/model/nms/src/nms_cuda_kernel.cu.o']\n",
            "generating /tmp/tmpqcjxem0m/_nms.c\n",
            "setting the current directory to '/tmp/tmpqcjxem0m'\n",
            "running build_ext\n",
            "building '_nms' extension\n",
            "creating content\n",
            "creating content/drive\n",
            "creating content/drive/My Drive\n",
            "creating content/drive/My Drive/test docments\n",
            "creating content/drive/My Drive/test docments/testsource\n",
            "creating content/drive/My Drive/test docments/testsource/faster-rcnn.pytorch\n",
            "creating content/drive/My Drive/test docments/testsource/faster-rcnn.pytorch/lib\n",
            "creating content/drive/My Drive/test docments/testsource/faster-rcnn.pytorch/lib/model\n",
            "creating content/drive/My Drive/test docments/testsource/faster-rcnn.pytorch/lib/model/nms\n",
            "creating content/drive/My Drive/test docments/testsource/faster-rcnn.pytorch/lib/model/nms/src\n",
            "x86_64-linux-gnu-gcc -pthread -DNDEBUG -g -fwrapv -O2 -Wall -std=c99 -Wdate-time -D_FORTIFY_SOURCE=2 -fPIC -DWITH_CUDA -I/usr/local/lib/python3.6/dist-packages/torch/utils/ffi/../../lib/include -I/usr/local/lib/python3.6/dist-packages/torch/utils/ffi/../../lib/include/TH -I/usr/local/lib/python3.6/dist-packages/torch/utils/ffi/../../lib/include/THC -I/usr/local/cuda/include -I/usr/include/python3.6m -c _nms.c -o ./_nms.o\n",
            "x86_64-linux-gnu-gcc -pthread -DNDEBUG -g -fwrapv -O2 -Wall -std=c99 -Wdate-time -D_FORTIFY_SOURCE=2 -fPIC -DWITH_CUDA -I/usr/local/lib/python3.6/dist-packages/torch/utils/ffi/../../lib/include -I/usr/local/lib/python3.6/dist-packages/torch/utils/ffi/../../lib/include/TH -I/usr/local/lib/python3.6/dist-packages/torch/utils/ffi/../../lib/include/THC -I/usr/local/cuda/include -I/usr/include/python3.6m -c /content/drive/My Drive/test docments/testsource/faster-rcnn.pytorch/lib/model/nms/src/nms_cuda.c -o ./content/drive/My Drive/test docments/testsource/faster-rcnn.pytorch/lib/model/nms/src/nms_cuda.o\n",
            "x86_64-linux-gnu-gcc -pthread -shared -Wl,-O1 -Wl,-Bsymbolic-functions -Wl,-Bsymbolic-functions -Wl,-z,relro -Wl,-Bsymbolic-functions -Wl,-z,relro -std=c99 -Wdate-time -D_FORTIFY_SOURCE=2 ./_nms.o ./content/drive/My Drive/test docments/testsource/faster-rcnn.pytorch/lib/model/nms/src/nms_cuda.o /content/drive/My Drive/test docments/testsource/faster-rcnn.pytorch/lib/model/nms/src/nms_cuda_kernel.cu.o -o ./_nms.so\n",
            "Compiling roi pooling kernels by nvcc...\n",
            "/content/drive/My Drive/test docments/testsource/faster-rcnn.pytorch/lib/model/roi_pooling\n",
            "Including CUDA code.\n",
            "generating /tmp/tmp8euef6yd/_roi_pooling.c\n",
            "setting the current directory to '/tmp/tmp8euef6yd'\n",
            "running build_ext\n",
            "building '_roi_pooling' extension\n",
            "creating content\n",
            "creating content/drive\n",
            "creating content/drive/My Drive\n",
            "creating content/drive/My Drive/test docments\n",
            "creating content/drive/My Drive/test docments/testsource\n",
            "creating content/drive/My Drive/test docments/testsource/faster-rcnn.pytorch\n",
            "creating content/drive/My Drive/test docments/testsource/faster-rcnn.pytorch/lib\n",
            "creating content/drive/My Drive/test docments/testsource/faster-rcnn.pytorch/lib/model\n",
            "creating content/drive/My Drive/test docments/testsource/faster-rcnn.pytorch/lib/model/roi_pooling\n",
            "creating content/drive/My Drive/test docments/testsource/faster-rcnn.pytorch/lib/model/roi_pooling/src\n",
            "x86_64-linux-gnu-gcc -pthread -DNDEBUG -g -fwrapv -O2 -Wall -std=c99 -Wdate-time -D_FORTIFY_SOURCE=2 -fPIC -DWITH_CUDA -I/usr/local/lib/python3.6/dist-packages/torch/utils/ffi/../../lib/include -I/usr/local/lib/python3.6/dist-packages/torch/utils/ffi/../../lib/include/TH -I/usr/local/lib/python3.6/dist-packages/torch/utils/ffi/../../lib/include/THC -I/usr/local/cuda/include -I/usr/include/python3.6m -c _roi_pooling.c -o ./_roi_pooling.o\n",
            "x86_64-linux-gnu-gcc -pthread -DNDEBUG -g -fwrapv -O2 -Wall -std=c99 -Wdate-time -D_FORTIFY_SOURCE=2 -fPIC -DWITH_CUDA -I/usr/local/lib/python3.6/dist-packages/torch/utils/ffi/../../lib/include -I/usr/local/lib/python3.6/dist-packages/torch/utils/ffi/../../lib/include/TH -I/usr/local/lib/python3.6/dist-packages/torch/utils/ffi/../../lib/include/THC -I/usr/local/cuda/include -I/usr/include/python3.6m -c /content/drive/My Drive/test docments/testsource/faster-rcnn.pytorch/lib/model/roi_pooling/src/roi_pooling.c -o ./content/drive/My Drive/test docments/testsource/faster-rcnn.pytorch/lib/model/roi_pooling/src/roi_pooling.o\n",
            "x86_64-linux-gnu-gcc -pthread -DNDEBUG -g -fwrapv -O2 -Wall -std=c99 -Wdate-time -D_FORTIFY_SOURCE=2 -fPIC -DWITH_CUDA -I/usr/local/lib/python3.6/dist-packages/torch/utils/ffi/../../lib/include -I/usr/local/lib/python3.6/dist-packages/torch/utils/ffi/../../lib/include/TH -I/usr/local/lib/python3.6/dist-packages/torch/utils/ffi/../../lib/include/THC -I/usr/local/cuda/include -I/usr/include/python3.6m -c /content/drive/My Drive/test docments/testsource/faster-rcnn.pytorch/lib/model/roi_pooling/src/roi_pooling_cuda.c -o ./content/drive/My Drive/test docments/testsource/faster-rcnn.pytorch/lib/model/roi_pooling/src/roi_pooling_cuda.o\n",
            "x86_64-linux-gnu-gcc -pthread -shared -Wl,-O1 -Wl,-Bsymbolic-functions -Wl,-Bsymbolic-functions -Wl,-z,relro -Wl,-Bsymbolic-functions -Wl,-z,relro -std=c99 -Wdate-time -D_FORTIFY_SOURCE=2 ./_roi_pooling.o ./content/drive/My Drive/test docments/testsource/faster-rcnn.pytorch/lib/model/roi_pooling/src/roi_pooling.o ./content/drive/My Drive/test docments/testsource/faster-rcnn.pytorch/lib/model/roi_pooling/src/roi_pooling_cuda.o /content/drive/My Drive/test docments/testsource/faster-rcnn.pytorch/lib/model/roi_pooling/src/roi_pooling.cu.o -o ./_roi_pooling.so\n",
            "Compiling roi align kernels by nvcc...\n",
            "/content/drive/My Drive/test docments/testsource/faster-rcnn.pytorch/lib/model/roi_align\n",
            "Including CUDA code.\n",
            "generating /tmp/tmpsn445jqi/_roi_align.c\n",
            "setting the current directory to '/tmp/tmpsn445jqi'\n",
            "running build_ext\n",
            "building '_roi_align' extension\n",
            "creating content\n",
            "creating content/drive\n",
            "creating content/drive/My Drive\n",
            "creating content/drive/My Drive/test docments\n",
            "creating content/drive/My Drive/test docments/testsource\n",
            "creating content/drive/My Drive/test docments/testsource/faster-rcnn.pytorch\n",
            "creating content/drive/My Drive/test docments/testsource/faster-rcnn.pytorch/lib\n",
            "creating content/drive/My Drive/test docments/testsource/faster-rcnn.pytorch/lib/model\n",
            "creating content/drive/My Drive/test docments/testsource/faster-rcnn.pytorch/lib/model/roi_align\n",
            "creating content/drive/My Drive/test docments/testsource/faster-rcnn.pytorch/lib/model/roi_align/src\n",
            "x86_64-linux-gnu-gcc -pthread -DNDEBUG -g -fwrapv -O2 -Wall -std=c99 -Wdate-time -D_FORTIFY_SOURCE=2 -fPIC -DWITH_CUDA -I/usr/local/lib/python3.6/dist-packages/torch/utils/ffi/../../lib/include -I/usr/local/lib/python3.6/dist-packages/torch/utils/ffi/../../lib/include/TH -I/usr/local/lib/python3.6/dist-packages/torch/utils/ffi/../../lib/include/THC -I/usr/local/cuda/include -I/usr/include/python3.6m -c _roi_align.c -o ./_roi_align.o\n",
            "x86_64-linux-gnu-gcc -pthread -DNDEBUG -g -fwrapv -O2 -Wall -std=c99 -Wdate-time -D_FORTIFY_SOURCE=2 -fPIC -DWITH_CUDA -I/usr/local/lib/python3.6/dist-packages/torch/utils/ffi/../../lib/include -I/usr/local/lib/python3.6/dist-packages/torch/utils/ffi/../../lib/include/TH -I/usr/local/lib/python3.6/dist-packages/torch/utils/ffi/../../lib/include/THC -I/usr/local/cuda/include -I/usr/include/python3.6m -c /content/drive/My Drive/test docments/testsource/faster-rcnn.pytorch/lib/model/roi_align/src/roi_align.c -o ./content/drive/My Drive/test docments/testsource/faster-rcnn.pytorch/lib/model/roi_align/src/roi_align.o\n",
            "x86_64-linux-gnu-gcc -pthread -DNDEBUG -g -fwrapv -O2 -Wall -std=c99 -Wdate-time -D_FORTIFY_SOURCE=2 -fPIC -DWITH_CUDA -I/usr/local/lib/python3.6/dist-packages/torch/utils/ffi/../../lib/include -I/usr/local/lib/python3.6/dist-packages/torch/utils/ffi/../../lib/include/TH -I/usr/local/lib/python3.6/dist-packages/torch/utils/ffi/../../lib/include/THC -I/usr/local/cuda/include -I/usr/include/python3.6m -c /content/drive/My Drive/test docments/testsource/faster-rcnn.pytorch/lib/model/roi_align/src/roi_align_cuda.c -o ./content/drive/My Drive/test docments/testsource/faster-rcnn.pytorch/lib/model/roi_align/src/roi_align_cuda.o\n",
            "x86_64-linux-gnu-gcc -pthread -shared -Wl,-O1 -Wl,-Bsymbolic-functions -Wl,-Bsymbolic-functions -Wl,-z,relro -Wl,-Bsymbolic-functions -Wl,-z,relro -std=c99 -Wdate-time -D_FORTIFY_SOURCE=2 ./_roi_align.o ./content/drive/My Drive/test docments/testsource/faster-rcnn.pytorch/lib/model/roi_align/src/roi_align.o ./content/drive/My Drive/test docments/testsource/faster-rcnn.pytorch/lib/model/roi_align/src/roi_align_cuda.o /content/drive/My Drive/test docments/testsource/faster-rcnn.pytorch/lib/model/roi_align/src/roi_align_kernel.cu.o -o ./_roi_align.so\n",
            "Compiling roi crop kernels by nvcc...\n",
            "Including CUDA code.\n",
            "/content/drive/My Drive/test docments/testsource/faster-rcnn.pytorch/lib/model/roi_crop\n",
            "generating /tmp/tmpe58wnmjt/_roi_crop.c\n",
            "setting the current directory to '/tmp/tmpe58wnmjt'\n",
            "running build_ext\n",
            "building '_roi_crop' extension\n",
            "creating content\n",
            "creating content/drive\n",
            "creating content/drive/My Drive\n",
            "creating content/drive/My Drive/test docments\n",
            "creating content/drive/My Drive/test docments/testsource\n",
            "creating content/drive/My Drive/test docments/testsource/faster-rcnn.pytorch\n",
            "creating content/drive/My Drive/test docments/testsource/faster-rcnn.pytorch/lib\n",
            "creating content/drive/My Drive/test docments/testsource/faster-rcnn.pytorch/lib/model\n",
            "creating content/drive/My Drive/test docments/testsource/faster-rcnn.pytorch/lib/model/roi_crop\n",
            "creating content/drive/My Drive/test docments/testsource/faster-rcnn.pytorch/lib/model/roi_crop/src\n",
            "x86_64-linux-gnu-gcc -pthread -DNDEBUG -g -fwrapv -O2 -Wall -std=c99 -Wdate-time -D_FORTIFY_SOURCE=2 -fPIC -DWITH_CUDA -I/usr/local/lib/python3.6/dist-packages/torch/utils/ffi/../../lib/include -I/usr/local/lib/python3.6/dist-packages/torch/utils/ffi/../../lib/include/TH -I/usr/local/lib/python3.6/dist-packages/torch/utils/ffi/../../lib/include/THC -I/usr/local/cuda/include -I/usr/include/python3.6m -c _roi_crop.c -o ./_roi_crop.o\n",
            "x86_64-linux-gnu-gcc -pthread -DNDEBUG -g -fwrapv -O2 -Wall -std=c99 -Wdate-time -D_FORTIFY_SOURCE=2 -fPIC -DWITH_CUDA -I/usr/local/lib/python3.6/dist-packages/torch/utils/ffi/../../lib/include -I/usr/local/lib/python3.6/dist-packages/torch/utils/ffi/../../lib/include/TH -I/usr/local/lib/python3.6/dist-packages/torch/utils/ffi/../../lib/include/THC -I/usr/local/cuda/include -I/usr/include/python3.6m -c /content/drive/My Drive/test docments/testsource/faster-rcnn.pytorch/lib/model/roi_crop/src/roi_crop.c -o ./content/drive/My Drive/test docments/testsource/faster-rcnn.pytorch/lib/model/roi_crop/src/roi_crop.o\n",
            "x86_64-linux-gnu-gcc -pthread -DNDEBUG -g -fwrapv -O2 -Wall -std=c99 -Wdate-time -D_FORTIFY_SOURCE=2 -fPIC -DWITH_CUDA -I/usr/local/lib/python3.6/dist-packages/torch/utils/ffi/../../lib/include -I/usr/local/lib/python3.6/dist-packages/torch/utils/ffi/../../lib/include/TH -I/usr/local/lib/python3.6/dist-packages/torch/utils/ffi/../../lib/include/THC -I/usr/local/cuda/include -I/usr/include/python3.6m -c /content/drive/My Drive/test docments/testsource/faster-rcnn.pytorch/lib/model/roi_crop/src/roi_crop_cuda.c -o ./content/drive/My Drive/test docments/testsource/faster-rcnn.pytorch/lib/model/roi_crop/src/roi_crop_cuda.o\n",
            "x86_64-linux-gnu-gcc -pthread -shared -Wl,-O1 -Wl,-Bsymbolic-functions -Wl,-Bsymbolic-functions -Wl,-z,relro -Wl,-Bsymbolic-functions -Wl,-z,relro -std=c99 -Wdate-time -D_FORTIFY_SOURCE=2 ./_roi_crop.o ./content/drive/My Drive/test docments/testsource/faster-rcnn.pytorch/lib/model/roi_crop/src/roi_crop.o ./content/drive/My Drive/test docments/testsource/faster-rcnn.pytorch/lib/model/roi_crop/src/roi_crop_cuda.o /content/drive/My Drive/test docments/testsource/faster-rcnn.pytorch/lib/model/roi_crop/src/roi_crop_cuda_kernel.cu.o -o ./_roi_crop.so\n"
          ],
          "name": "stdout"
        }
      ]
    },
    {
      "cell_type": "code",
      "metadata": {
        "id": "ueQGxuUpAs3h",
        "outputId": "15f60bbc-8c89-4e0f-9c35-b1270cc7a77d",
        "colab": {
          "base_uri": "https://localhost:8080/",
          "height": 35
        }
      },
      "source": [
        "cd .."
      ],
      "execution_count": 49,
      "outputs": [
        {
          "output_type": "stream",
          "text": [
            "/content/drive/My Drive/test docments/testsource/faster-rcnn.pytorch\n"
          ],
          "name": "stdout"
        }
      ]
    },
    {
      "cell_type": "code",
      "metadata": {
        "id": "1Crf-5_7Rami"
      },
      "source": [
        "cd data"
      ],
      "execution_count": null,
      "outputs": []
    },
    {
      "cell_type": "code",
      "metadata": {
        "id": "L0liJWK1QHmw",
        "outputId": "1fa4397c-60cd-43e6-e67f-9e623130098c",
        "colab": {
          "base_uri": "https://localhost:8080/",
          "height": 755
        }
      },
      "source": [
        "!wget http://host.robots.ox.ac.uk/pascal/VOC/voc2007/VOCtrainval_06-Nov-2007.tar\n",
        "!wget http://host.robots.ox.ac.uk/pascal/VOC/voc2007/VOCtest_06-Nov-2007.tar\n",
        "!wget http://host.robots.ox.ac.uk/pascal/VOC/voc2007/VOCdevkit_08-Jun-2007.tar\n",
        "!tar xvf VOCtrainval_06-Nov-2007.tar\n",
        "!tar xvf VOCtest_06-Nov-2007.tar\n",
        "!tar xvf VOCdevkit_08-Jun-2007.tar"
      ],
      "execution_count": null,
      "outputs": [
        {
          "output_type": "stream",
          "text": [
            "--2020-10-08 08:13:18--  http://host.robots.ox.ac.uk/pascal/VOC/voc2007/VOCtrainval_06-Nov-2007.tar\n",
            "Resolving host.robots.ox.ac.uk (host.robots.ox.ac.uk)... 129.67.94.152\n",
            "Connecting to host.robots.ox.ac.uk (host.robots.ox.ac.uk)|129.67.94.152|:80... connected.\n",
            "HTTP request sent, awaiting response... 200 OK\n",
            "Length: 460032000 (439M) [application/x-tar]\n",
            "VOCtrainval_06-Nov-2007.tar: No such file or directory\n",
            "\n",
            "Cannot write to ‘VOCtrainval_06-Nov-2007.tar’ (No such file or directory).\n",
            "shell-init: error retrieving current directory: getcwd: cannot access parent directories: No such file or directory\n",
            "--2020-10-08 08:18:15--  http://host.robots.ox.ac.uk/pascal/VOC/voc2007/VOCtest_06-Nov-2007.tar\n",
            "Resolving host.robots.ox.ac.uk (host.robots.ox.ac.uk)... 129.67.94.152\n",
            "Connecting to host.robots.ox.ac.uk (host.robots.ox.ac.uk)|129.67.94.152|:80... connected.\n",
            "HTTP request sent, awaiting response... Read error (Connection reset by peer) in headers.\n",
            "Retrying.\n",
            "\n",
            "--2020-10-08 08:20:07--  (try: 2)  http://host.robots.ox.ac.uk/pascal/VOC/voc2007/VOCtest_06-Nov-2007.tar\n",
            "Connecting to host.robots.ox.ac.uk (host.robots.ox.ac.uk)|129.67.94.152|:80... connected.\n",
            "HTTP request sent, awaiting response... 200 OK\n",
            "Length: 451020800 (430M) [application/x-tar]\n",
            "VOCtest_06-Nov-2007.tar: No such file or directory\n",
            "\n",
            "Cannot write to ‘VOCtest_06-Nov-2007.tar’ (No such file or directory).\n",
            "shell-init: error retrieving current directory: getcwd: cannot access parent directories: No such file or directory\n",
            "--2020-10-08 08:26:32--  http://host.robots.ox.ac.uk/pascal/VOC/voc2007/VOCdevkit_08-Jun-2007.tar\n",
            "Resolving host.robots.ox.ac.uk (host.robots.ox.ac.uk)... 129.67.94.152\n",
            "Connecting to host.robots.ox.ac.uk (host.robots.ox.ac.uk)|129.67.94.152|:80... connected.\n",
            "HTTP request sent, awaiting response... Read error (Connection reset by peer) in headers.\n",
            "Retrying.\n",
            "\n",
            "--2020-10-08 08:28:18--  (try: 2)  http://host.robots.ox.ac.uk/pascal/VOC/voc2007/VOCdevkit_08-Jun-2007.tar\n",
            "Connecting to host.robots.ox.ac.uk (host.robots.ox.ac.uk)|129.67.94.152|:80... connected.\n",
            "HTTP request sent, awaiting response... Read error (Connection reset by peer) in headers.\n",
            "Retrying.\n",
            "\n",
            "--2020-10-08 08:30:06--  (try: 3)  http://host.robots.ox.ac.uk/pascal/VOC/voc2007/VOCdevkit_08-Jun-2007.tar\n",
            "Connecting to host.robots.ox.ac.uk (host.robots.ox.ac.uk)|129.67.94.152|:80... connected.\n",
            "HTTP request sent, awaiting response... 200 OK\n",
            "Length: 256000 (250K) [application/x-tar]\n",
            "VOCdevkit_08-Jun-2007.tar: No such file or directory\n",
            "\n",
            "Cannot write to ‘VOCdevkit_08-Jun-2007.tar’ (No such file or directory).\n"
          ],
          "name": "stdout"
        }
      ]
    },
    {
      "cell_type": "code",
      "metadata": {
        "id": "wcIGkoYbM-uv",
        "outputId": "4e26e62d-1708-4ef5-800a-1fdd2dc0175f",
        "colab": {
          "base_uri": "https://localhost:8080/",
          "height": 1000
        }
      },
      "source": [
        "!python3 trainval_net.py --dataset pascal_voc --net vgg16 \\\n",
        "                       --bs 24 --nw 8 \\\n",
        "                       --lr 0.001 --lr_decay_step 5 \\\n",
        "                       --cuda --save_dir data\\train\\"
      ],
      "execution_count": 5,
      "outputs": [
        {
          "output_type": "stream",
          "text": [
            "Called with args:\n",
            "Namespace(batch_size=24, checkepoch=1, checkpoint=0, checkpoint_interval=10000, checksession=1, class_agnostic=False, cuda=True, dataset='pascal_voc', disp_interval=100, large_scale=False, lr=0.001, lr_decay_gamma=0.1, lr_decay_step=5, mGPUs=False, max_epochs=20, net='vgg16', num_workers=8, optimizer='sgd', resume=False, save_dir='datatrain', session=1, start_epoch=1, use_tfboard=False)\n",
            "Using config:\n",
            "{'ANCHOR_RATIOS': [0.5, 1, 2],\n",
            " 'ANCHOR_SCALES': [8, 16, 32],\n",
            " 'CROP_RESIZE_WITH_MAX_POOL': False,\n",
            " 'CUDA': False,\n",
            " 'DATA_DIR': '/content/drive/My Drive/test '\n",
            "             'docments/testsource/faster-rcnn.pytorch/data',\n",
            " 'DEDUP_BOXES': 0.0625,\n",
            " 'EPS': 1e-14,\n",
            " 'EXP_DIR': 'vgg16',\n",
            " 'FEAT_STRIDE': [16],\n",
            " 'GPU_ID': 0,\n",
            " 'MATLAB': 'matlab',\n",
            " 'MAX_NUM_GT_BOXES': 20,\n",
            " 'MOBILENET': {'DEPTH_MULTIPLIER': 1.0,\n",
            "               'FIXED_LAYERS': 5,\n",
            "               'REGU_DEPTH': False,\n",
            "               'WEIGHT_DECAY': 4e-05},\n",
            " 'PIXEL_MEANS': array([[[102.9801, 115.9465, 122.7717]]]),\n",
            " 'POOLING_MODE': 'align',\n",
            " 'POOLING_SIZE': 7,\n",
            " 'RESNET': {'FIXED_BLOCKS': 1, 'MAX_POOL': False},\n",
            " 'RNG_SEED': 3,\n",
            " 'ROOT_DIR': '/content/drive/My Drive/test '\n",
            "             'docments/testsource/faster-rcnn.pytorch',\n",
            " 'TEST': {'BBOX_REG': True,\n",
            "          'HAS_RPN': True,\n",
            "          'MAX_SIZE': 1000,\n",
            "          'MODE': 'nms',\n",
            "          'NMS': 0.3,\n",
            "          'PROPOSAL_METHOD': 'gt',\n",
            "          'RPN_MIN_SIZE': 16,\n",
            "          'RPN_NMS_THRESH': 0.7,\n",
            "          'RPN_POST_NMS_TOP_N': 300,\n",
            "          'RPN_PRE_NMS_TOP_N': 6000,\n",
            "          'RPN_TOP_N': 5000,\n",
            "          'SCALES': [600],\n",
            "          'SVM': False},\n",
            " 'TRAIN': {'ASPECT_GROUPING': False,\n",
            "           'BATCH_SIZE': 256,\n",
            "           'BBOX_INSIDE_WEIGHTS': [1.0, 1.0, 1.0, 1.0],\n",
            "           'BBOX_NORMALIZE_MEANS': [0.0, 0.0, 0.0, 0.0],\n",
            "           'BBOX_NORMALIZE_STDS': [0.1, 0.1, 0.2, 0.2],\n",
            "           'BBOX_NORMALIZE_TARGETS': True,\n",
            "           'BBOX_NORMALIZE_TARGETS_PRECOMPUTED': True,\n",
            "           'BBOX_REG': True,\n",
            "           'BBOX_THRESH': 0.5,\n",
            "           'BG_THRESH_HI': 0.5,\n",
            "           'BG_THRESH_LO': 0.0,\n",
            "           'BIAS_DECAY': False,\n",
            "           'BN_TRAIN': False,\n",
            "           'DISPLAY': 10,\n",
            "           'DOUBLE_BIAS': True,\n",
            "           'FG_FRACTION': 0.25,\n",
            "           'FG_THRESH': 0.5,\n",
            "           'GAMMA': 0.1,\n",
            "           'HAS_RPN': True,\n",
            "           'IMS_PER_BATCH': 1,\n",
            "           'LEARNING_RATE': 0.01,\n",
            "           'MAX_SIZE': 1000,\n",
            "           'MOMENTUM': 0.9,\n",
            "           'PROPOSAL_METHOD': 'gt',\n",
            "           'RPN_BATCHSIZE': 256,\n",
            "           'RPN_BBOX_INSIDE_WEIGHTS': [1.0, 1.0, 1.0, 1.0],\n",
            "           'RPN_CLOBBER_POSITIVES': False,\n",
            "           'RPN_FG_FRACTION': 0.5,\n",
            "           'RPN_MIN_SIZE': 8,\n",
            "           'RPN_NEGATIVE_OVERLAP': 0.3,\n",
            "           'RPN_NMS_THRESH': 0.7,\n",
            "           'RPN_POSITIVE_OVERLAP': 0.7,\n",
            "           'RPN_POSITIVE_WEIGHT': -1.0,\n",
            "           'RPN_POST_NMS_TOP_N': 2000,\n",
            "           'RPN_PRE_NMS_TOP_N': 12000,\n",
            "           'SCALES': [600],\n",
            "           'SNAPSHOT_ITERS': 5000,\n",
            "           'SNAPSHOT_KEPT': 3,\n",
            "           'SNAPSHOT_PREFIX': 'res101_faster_rcnn',\n",
            "           'STEPSIZE': [30000],\n",
            "           'SUMMARY_INTERVAL': 180,\n",
            "           'TRIM_HEIGHT': 600,\n",
            "           'TRIM_WIDTH': 600,\n",
            "           'TRUNCATED': False,\n",
            "           'USE_ALL_GT': True,\n",
            "           'USE_FLIPPED': True,\n",
            "           'USE_GT': False,\n",
            "           'WEIGHT_DECAY': 0.0005},\n",
            " 'USE_GPU_NMS': True}\n",
            "Loaded dataset `voc_2007_trainval`\n",
            "Set proposal method: gt\n",
            "Appending horizontally-flipped training examples...\n",
            "done\n",
            "Preparing training data...\n",
            "voc_2007_trainval gt roidb loaded from /content/drive/My Drive/test docments/testsource/faster-rcnn.pytorch/data/cache/voc_2007_trainval_gt_roidb.pkl\n",
            "Image sizes loaded from /content/drive/My Drive/test docments/testsource/faster-rcnn.pytorch/data/cache/voc_2007_trainval_sizes.pkl\n",
            "done\n",
            "before filtering, there are 0 images...\n",
            "after filtering, there are 0 images...\n",
            "0 roidb entries\n",
            "Loading pretrained weights from data/pretrained_model/vgg16_caffe.pth\n",
            "Traceback (most recent call last):\n",
            "  File \"trainval_net.py\", line 308, in <module>\n",
            "    data_iter = iter(dataloader)\n",
            "  File \"/usr/local/lib/python3.6/dist-packages/torch/utils/data/dataloader.py\", line 451, in __iter__\n",
            "    return _DataLoaderIter(self)\n",
            "  File \"/usr/local/lib/python3.6/dist-packages/torch/utils/data/dataloader.py\", line 247, in __init__\n",
            "    self._put_indices()\n",
            "  File \"/usr/local/lib/python3.6/dist-packages/torch/utils/data/dataloader.py\", line 295, in _put_indices\n",
            "    indices = next(self.sample_iter, None)\n",
            "  File \"/usr/local/lib/python3.6/dist-packages/torch/utils/data/sampler.py\", line 138, in __iter__\n",
            "    for idx in self.sampler:\n",
            "  File \"trainval_net.py\", line 136, in __iter__\n",
            "    self.rand_num = rand_num.expand(self.num_per_batch, self.batch_size) + self.range\n",
            "RuntimeError: The expanded size of the tensor (24) must match the existing size (0) at non-singleton dimension 1\n"
          ],
          "name": "stdout"
        }
      ]
    },
    {
      "cell_type": "code",
      "metadata": {
        "id": "JdOjifJTr-Jd",
        "outputId": "1da4d9a1-920e-4728-9e16-c94f763fef27",
        "colab": {
          "base_uri": "https://localhost:8080/",
          "height": 453
        }
      },
      "source": [
        "!pip3 uninstall Pillow\n",
        "!pip3 install Pillow"
      ],
      "execution_count": 45,
      "outputs": [
        {
          "output_type": "stream",
          "text": [
            "Found existing installation: Pillow 7.0.0\n",
            "Uninstalling Pillow-7.0.0:\n",
            "  Would remove:\n",
            "    /usr/local/lib/python3.6/dist-packages/PIL/*\n",
            "    /usr/local/lib/python3.6/dist-packages/Pillow-7.0.0.dist-info/*\n",
            "Proceed (y/n)? y\n",
            "  Successfully uninstalled Pillow-7.0.0\n",
            "Collecting Pillow\n",
            "  Downloading Pillow-7.2.0-cp36-cp36m-manylinux1_x86_64.whl (2.2 MB)\n",
            "\u001b[K     |████████████████████████████████| 2.2 MB 2.7 MB/s \n",
            "\u001b[?25hInstalling collected packages: Pillow\n",
            "\u001b[31mERROR: After October 2020 you may experience errors when installing or updating packages. This is because pip will change the way that it resolves dependency conflicts.\n",
            "\n",
            "We recommend you use --use-feature=2020-resolver to test your packages with the new resolver before it becomes the default.\n",
            "\n",
            "fastai 1.0.61 requires torch>=1.0.0, but you'll have torch 0.4.0 which is incompatible.\n",
            "albumentations 0.1.12 requires imgaug<0.2.7,>=0.2.5, but you'll have imgaug 0.2.9 which is incompatible.\u001b[0m\n",
            "Successfully installed Pillow-7.2.0\n"
          ],
          "name": "stdout"
        },
        {
          "output_type": "display_data",
          "data": {
            "application/vnd.colab-display-data+json": {
              "pip_warning": {
                "packages": [
                  "PIL"
                ]
              }
            }
          },
          "metadata": {
            "tags": []
          }
        }
      ]
    },
    {
      "cell_type": "code",
      "metadata": {
        "id": "vqClbSQPAvKi",
        "outputId": "852aa651-8eac-47d3-9321-17c4b3101040",
        "colab": {
          "base_uri": "https://localhost:8080/",
          "height": 1000
        }
      },
      "source": [
        "!python3 demo.py --dataset pascal_voc --cuda --checkpoint 01 --net vgg16 --load_dir data/newclass14/ --image_dir data/newclass14/"
      ],
      "execution_count": 37,
      "outputs": [
        {
          "output_type": "stream",
          "text": [
            "Called with args:\n",
            "Namespace(batch_size=1, cfg_file='cfgs/vgg16.yml', checkepoch=1, checkpoint=1, checksession=1, class_agnostic=False, cuda=True, dataset='pascal_voc', image_dir='data/newclass14/', load_dir='data/newclass14/', mGPUs=False, net='vgg16', parallel_type=0, set_cfgs=None, vis=False, webcam_num=-1)\n",
            "Using config:\n",
            "{'ANCHOR_RATIOS': [0.5, 1, 2],\n",
            " 'ANCHOR_SCALES': [8, 16, 32],\n",
            " 'CROP_RESIZE_WITH_MAX_POOL': False,\n",
            " 'CUDA': False,\n",
            " 'DATA_DIR': '/content/drive/My Drive/test '\n",
            "             'docments/testsource/faster-rcnn.pytorch/data',\n",
            " 'DEDUP_BOXES': 0.0625,\n",
            " 'EPS': 1e-14,\n",
            " 'EXP_DIR': 'vgg16',\n",
            " 'FEAT_STRIDE': [16],\n",
            " 'GPU_ID': 0,\n",
            " 'MATLAB': 'matlab',\n",
            " 'MAX_NUM_GT_BOXES': 20,\n",
            " 'MOBILENET': {'DEPTH_MULTIPLIER': 1.0,\n",
            "               'FIXED_LAYERS': 5,\n",
            "               'REGU_DEPTH': False,\n",
            "               'WEIGHT_DECAY': 4e-05},\n",
            " 'PIXEL_MEANS': array([[[102.9801, 115.9465, 122.7717]]]),\n",
            " 'POOLING_MODE': 'align',\n",
            " 'POOLING_SIZE': 7,\n",
            " 'RESNET': {'FIXED_BLOCKS': 1, 'MAX_POOL': False},\n",
            " 'RNG_SEED': 3,\n",
            " 'ROOT_DIR': '/content/drive/My Drive/test '\n",
            "             'docments/testsource/faster-rcnn.pytorch',\n",
            " 'TEST': {'BBOX_REG': True,\n",
            "          'HAS_RPN': True,\n",
            "          'MAX_SIZE': 1000,\n",
            "          'MODE': 'nms',\n",
            "          'NMS': 0.3,\n",
            "          'PROPOSAL_METHOD': 'gt',\n",
            "          'RPN_MIN_SIZE': 16,\n",
            "          'RPN_NMS_THRESH': 0.7,\n",
            "          'RPN_POST_NMS_TOP_N': 300,\n",
            "          'RPN_PRE_NMS_TOP_N': 6000,\n",
            "          'RPN_TOP_N': 5000,\n",
            "          'SCALES': [600],\n",
            "          'SVM': False},\n",
            " 'TRAIN': {'ASPECT_GROUPING': False,\n",
            "           'BATCH_SIZE': 256,\n",
            "           'BBOX_INSIDE_WEIGHTS': [1.0, 1.0, 1.0, 1.0],\n",
            "           'BBOX_NORMALIZE_MEANS': [0.0, 0.0, 0.0, 0.0],\n",
            "           'BBOX_NORMALIZE_STDS': [0.1, 0.1, 0.2, 0.2],\n",
            "           'BBOX_NORMALIZE_TARGETS': True,\n",
            "           'BBOX_NORMALIZE_TARGETS_PRECOMPUTED': True,\n",
            "           'BBOX_REG': True,\n",
            "           'BBOX_THRESH': 0.5,\n",
            "           'BG_THRESH_HI': 0.5,\n",
            "           'BG_THRESH_LO': 0.0,\n",
            "           'BIAS_DECAY': False,\n",
            "           'BN_TRAIN': False,\n",
            "           'DISPLAY': 10,\n",
            "           'DOUBLE_BIAS': True,\n",
            "           'FG_FRACTION': 0.25,\n",
            "           'FG_THRESH': 0.5,\n",
            "           'GAMMA': 0.1,\n",
            "           'HAS_RPN': True,\n",
            "           'IMS_PER_BATCH': 1,\n",
            "           'LEARNING_RATE': 0.01,\n",
            "           'MAX_SIZE': 1000,\n",
            "           'MOMENTUM': 0.9,\n",
            "           'PROPOSAL_METHOD': 'gt',\n",
            "           'RPN_BATCHSIZE': 256,\n",
            "           'RPN_BBOX_INSIDE_WEIGHTS': [1.0, 1.0, 1.0, 1.0],\n",
            "           'RPN_CLOBBER_POSITIVES': False,\n",
            "           'RPN_FG_FRACTION': 0.5,\n",
            "           'RPN_MIN_SIZE': 8,\n",
            "           'RPN_NEGATIVE_OVERLAP': 0.3,\n",
            "           'RPN_NMS_THRESH': 0.7,\n",
            "           'RPN_POSITIVE_OVERLAP': 0.7,\n",
            "           'RPN_POSITIVE_WEIGHT': -1.0,\n",
            "           'RPN_POST_NMS_TOP_N': 2000,\n",
            "           'RPN_PRE_NMS_TOP_N': 12000,\n",
            "           'SCALES': [600],\n",
            "           'SNAPSHOT_ITERS': 5000,\n",
            "           'SNAPSHOT_KEPT': 3,\n",
            "           'SNAPSHOT_PREFIX': 'res101_faster_rcnn',\n",
            "           'STEPSIZE': [30000],\n",
            "           'SUMMARY_INTERVAL': 180,\n",
            "           'TRIM_HEIGHT': 600,\n",
            "           'TRIM_WIDTH': 600,\n",
            "           'TRUNCATED': False,\n",
            "           'USE_ALL_GT': True,\n",
            "           'USE_FLIPPED': True,\n",
            "           'USE_GT': False,\n",
            "           'WEIGHT_DECAY': 0.0005},\n",
            " 'USE_GPU_NMS': True}\n",
            "load checkpoint data/newclass14//vgg16/pascal_voc/faster_rcnn_1_1_1.pth\n",
            "Traceback (most recent call last):\n",
            "  File \"demo.py\", line 192, in <module>\n",
            "    checkpoint = torch.load(load_name)\n",
            "  File \"/usr/local/lib/python3.6/dist-packages/torch/serialization.py\", line 301, in load\n",
            "    f = open(f, 'rb')\n",
            "FileNotFoundError: [Errno 2] No such file or directory: 'data/newclass14//vgg16/pascal_voc/faster_rcnn_1_1_1.pth'\n"
          ],
          "name": "stdout"
        }
      ]
    },
    {
      "cell_type": "code",
      "metadata": {
        "id": "LsQlgmpmkDVb",
        "outputId": "5e6649f2-1c73-40fe-81d4-58d3a5a3c64f",
        "colab": {
          "base_uri": "https://localhost:8080/",
          "height": 71
        }
      },
      "source": [
        "!dir"
      ],
      "execution_count": 26,
      "outputs": [
        {
          "output_type": "stream",
          "text": [
            "cfgs\t faster_rcnn_models  lib      __pycache__\ttest_net.py\n",
            "data\t images\t\t     LICENSE  README.md\t\ttrainval_net.py\n",
            "demo.py  _init_paths.py      models   requirements.txt\n"
          ],
          "name": "stdout"
        }
      ]
    },
    {
      "cell_type": "code",
      "metadata": {
        "id": "oPw6CsuwkkVp",
        "outputId": "e306843d-1c11-429d-9dd3-47992f8a0952",
        "colab": {
          "base_uri": "https://localhost:8080/",
          "height": 71
        }
      },
      "source": [
        "!sh fetch_faster_rcnn_models.sh"
      ],
      "execution_count": 14,
      "outputs": [
        {
          "output_type": "stream",
          "text": [
            "fetch_faster_rcnn_models.sh: 3: fetch_faster_rcnn_models.sh: Bad substitution\n",
            "File already exists. Checking md5...\n",
            "Checksum is correct. No need to download.\n"
          ],
          "name": "stdout"
        }
      ]
    }
  ]
}